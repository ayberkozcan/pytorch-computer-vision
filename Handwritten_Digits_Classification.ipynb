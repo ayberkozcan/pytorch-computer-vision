{
  "nbformat": 4,
  "nbformat_minor": 0,
  "metadata": {
    "colab": {
      "provenance": [],
      "gpuType": "T4",
      "authorship_tag": "ABX9TyOhJLZsbCgBs2hGicPXBe9i",
      "include_colab_link": true
    },
    "kernelspec": {
      "name": "python3",
      "display_name": "Python 3"
    },
    "language_info": {
      "name": "python"
    },
    "accelerator": "GPU",
    "widgets": {
      "application/vnd.jupyter.widget-state+json": {
        "30329956aab74606b1aefbf3da1744e1": {
          "model_module": "@jupyter-widgets/controls",
          "model_name": "HBoxModel",
          "model_module_version": "1.5.0",
          "state": {
            "_dom_classes": [],
            "_model_module": "@jupyter-widgets/controls",
            "_model_module_version": "1.5.0",
            "_model_name": "HBoxModel",
            "_view_count": null,
            "_view_module": "@jupyter-widgets/controls",
            "_view_module_version": "1.5.0",
            "_view_name": "HBoxView",
            "box_style": "",
            "children": [
              "IPY_MODEL_394059d698a3424c97cae308b199c5fa",
              "IPY_MODEL_46d6968ebbdc4eb5950ed8429abac7bc",
              "IPY_MODEL_47519c4665a74fc882c0c37c0712d443"
            ],
            "layout": "IPY_MODEL_086390d436ec4d428416fa93c9e48bbc"
          }
        },
        "394059d698a3424c97cae308b199c5fa": {
          "model_module": "@jupyter-widgets/controls",
          "model_name": "HTMLModel",
          "model_module_version": "1.5.0",
          "state": {
            "_dom_classes": [],
            "_model_module": "@jupyter-widgets/controls",
            "_model_module_version": "1.5.0",
            "_model_name": "HTMLModel",
            "_view_count": null,
            "_view_module": "@jupyter-widgets/controls",
            "_view_module_version": "1.5.0",
            "_view_name": "HTMLView",
            "description": "",
            "description_tooltip": null,
            "layout": "IPY_MODEL_08faa9e666ab4f019bf7b3393292b129",
            "placeholder": "​",
            "style": "IPY_MODEL_8daa244bc9a4480db587c77f17d68ba2",
            "value": "100%"
          }
        },
        "46d6968ebbdc4eb5950ed8429abac7bc": {
          "model_module": "@jupyter-widgets/controls",
          "model_name": "FloatProgressModel",
          "model_module_version": "1.5.0",
          "state": {
            "_dom_classes": [],
            "_model_module": "@jupyter-widgets/controls",
            "_model_module_version": "1.5.0",
            "_model_name": "FloatProgressModel",
            "_view_count": null,
            "_view_module": "@jupyter-widgets/controls",
            "_view_module_version": "1.5.0",
            "_view_name": "ProgressView",
            "bar_style": "success",
            "description": "",
            "description_tooltip": null,
            "layout": "IPY_MODEL_020d835b70ec4855b6f13a16514c58e5",
            "max": 10,
            "min": 0,
            "orientation": "horizontal",
            "style": "IPY_MODEL_6d284c632c06445a804c71864f897edb",
            "value": 10
          }
        },
        "47519c4665a74fc882c0c37c0712d443": {
          "model_module": "@jupyter-widgets/controls",
          "model_name": "HTMLModel",
          "model_module_version": "1.5.0",
          "state": {
            "_dom_classes": [],
            "_model_module": "@jupyter-widgets/controls",
            "_model_module_version": "1.5.0",
            "_model_name": "HTMLModel",
            "_view_count": null,
            "_view_module": "@jupyter-widgets/controls",
            "_view_module_version": "1.5.0",
            "_view_name": "HTMLView",
            "description": "",
            "description_tooltip": null,
            "layout": "IPY_MODEL_93339d88aa76491db6165ce1471010d0",
            "placeholder": "​",
            "style": "IPY_MODEL_4a3916385773463ea5497f23e71f7ab1",
            "value": " 10/10 [01:42&lt;00:00, 10.11s/it]"
          }
        },
        "086390d436ec4d428416fa93c9e48bbc": {
          "model_module": "@jupyter-widgets/base",
          "model_name": "LayoutModel",
          "model_module_version": "1.2.0",
          "state": {
            "_model_module": "@jupyter-widgets/base",
            "_model_module_version": "1.2.0",
            "_model_name": "LayoutModel",
            "_view_count": null,
            "_view_module": "@jupyter-widgets/base",
            "_view_module_version": "1.2.0",
            "_view_name": "LayoutView",
            "align_content": null,
            "align_items": null,
            "align_self": null,
            "border": null,
            "bottom": null,
            "display": null,
            "flex": null,
            "flex_flow": null,
            "grid_area": null,
            "grid_auto_columns": null,
            "grid_auto_flow": null,
            "grid_auto_rows": null,
            "grid_column": null,
            "grid_gap": null,
            "grid_row": null,
            "grid_template_areas": null,
            "grid_template_columns": null,
            "grid_template_rows": null,
            "height": null,
            "justify_content": null,
            "justify_items": null,
            "left": null,
            "margin": null,
            "max_height": null,
            "max_width": null,
            "min_height": null,
            "min_width": null,
            "object_fit": null,
            "object_position": null,
            "order": null,
            "overflow": null,
            "overflow_x": null,
            "overflow_y": null,
            "padding": null,
            "right": null,
            "top": null,
            "visibility": null,
            "width": null
          }
        },
        "08faa9e666ab4f019bf7b3393292b129": {
          "model_module": "@jupyter-widgets/base",
          "model_name": "LayoutModel",
          "model_module_version": "1.2.0",
          "state": {
            "_model_module": "@jupyter-widgets/base",
            "_model_module_version": "1.2.0",
            "_model_name": "LayoutModel",
            "_view_count": null,
            "_view_module": "@jupyter-widgets/base",
            "_view_module_version": "1.2.0",
            "_view_name": "LayoutView",
            "align_content": null,
            "align_items": null,
            "align_self": null,
            "border": null,
            "bottom": null,
            "display": null,
            "flex": null,
            "flex_flow": null,
            "grid_area": null,
            "grid_auto_columns": null,
            "grid_auto_flow": null,
            "grid_auto_rows": null,
            "grid_column": null,
            "grid_gap": null,
            "grid_row": null,
            "grid_template_areas": null,
            "grid_template_columns": null,
            "grid_template_rows": null,
            "height": null,
            "justify_content": null,
            "justify_items": null,
            "left": null,
            "margin": null,
            "max_height": null,
            "max_width": null,
            "min_height": null,
            "min_width": null,
            "object_fit": null,
            "object_position": null,
            "order": null,
            "overflow": null,
            "overflow_x": null,
            "overflow_y": null,
            "padding": null,
            "right": null,
            "top": null,
            "visibility": null,
            "width": null
          }
        },
        "8daa244bc9a4480db587c77f17d68ba2": {
          "model_module": "@jupyter-widgets/controls",
          "model_name": "DescriptionStyleModel",
          "model_module_version": "1.5.0",
          "state": {
            "_model_module": "@jupyter-widgets/controls",
            "_model_module_version": "1.5.0",
            "_model_name": "DescriptionStyleModel",
            "_view_count": null,
            "_view_module": "@jupyter-widgets/base",
            "_view_module_version": "1.2.0",
            "_view_name": "StyleView",
            "description_width": ""
          }
        },
        "020d835b70ec4855b6f13a16514c58e5": {
          "model_module": "@jupyter-widgets/base",
          "model_name": "LayoutModel",
          "model_module_version": "1.2.0",
          "state": {
            "_model_module": "@jupyter-widgets/base",
            "_model_module_version": "1.2.0",
            "_model_name": "LayoutModel",
            "_view_count": null,
            "_view_module": "@jupyter-widgets/base",
            "_view_module_version": "1.2.0",
            "_view_name": "LayoutView",
            "align_content": null,
            "align_items": null,
            "align_self": null,
            "border": null,
            "bottom": null,
            "display": null,
            "flex": null,
            "flex_flow": null,
            "grid_area": null,
            "grid_auto_columns": null,
            "grid_auto_flow": null,
            "grid_auto_rows": null,
            "grid_column": null,
            "grid_gap": null,
            "grid_row": null,
            "grid_template_areas": null,
            "grid_template_columns": null,
            "grid_template_rows": null,
            "height": null,
            "justify_content": null,
            "justify_items": null,
            "left": null,
            "margin": null,
            "max_height": null,
            "max_width": null,
            "min_height": null,
            "min_width": null,
            "object_fit": null,
            "object_position": null,
            "order": null,
            "overflow": null,
            "overflow_x": null,
            "overflow_y": null,
            "padding": null,
            "right": null,
            "top": null,
            "visibility": null,
            "width": null
          }
        },
        "6d284c632c06445a804c71864f897edb": {
          "model_module": "@jupyter-widgets/controls",
          "model_name": "ProgressStyleModel",
          "model_module_version": "1.5.0",
          "state": {
            "_model_module": "@jupyter-widgets/controls",
            "_model_module_version": "1.5.0",
            "_model_name": "ProgressStyleModel",
            "_view_count": null,
            "_view_module": "@jupyter-widgets/base",
            "_view_module_version": "1.2.0",
            "_view_name": "StyleView",
            "bar_color": null,
            "description_width": ""
          }
        },
        "93339d88aa76491db6165ce1471010d0": {
          "model_module": "@jupyter-widgets/base",
          "model_name": "LayoutModel",
          "model_module_version": "1.2.0",
          "state": {
            "_model_module": "@jupyter-widgets/base",
            "_model_module_version": "1.2.0",
            "_model_name": "LayoutModel",
            "_view_count": null,
            "_view_module": "@jupyter-widgets/base",
            "_view_module_version": "1.2.0",
            "_view_name": "LayoutView",
            "align_content": null,
            "align_items": null,
            "align_self": null,
            "border": null,
            "bottom": null,
            "display": null,
            "flex": null,
            "flex_flow": null,
            "grid_area": null,
            "grid_auto_columns": null,
            "grid_auto_flow": null,
            "grid_auto_rows": null,
            "grid_column": null,
            "grid_gap": null,
            "grid_row": null,
            "grid_template_areas": null,
            "grid_template_columns": null,
            "grid_template_rows": null,
            "height": null,
            "justify_content": null,
            "justify_items": null,
            "left": null,
            "margin": null,
            "max_height": null,
            "max_width": null,
            "min_height": null,
            "min_width": null,
            "object_fit": null,
            "object_position": null,
            "order": null,
            "overflow": null,
            "overflow_x": null,
            "overflow_y": null,
            "padding": null,
            "right": null,
            "top": null,
            "visibility": null,
            "width": null
          }
        },
        "4a3916385773463ea5497f23e71f7ab1": {
          "model_module": "@jupyter-widgets/controls",
          "model_name": "DescriptionStyleModel",
          "model_module_version": "1.5.0",
          "state": {
            "_model_module": "@jupyter-widgets/controls",
            "_model_module_version": "1.5.0",
            "_model_name": "DescriptionStyleModel",
            "_view_count": null,
            "_view_module": "@jupyter-widgets/base",
            "_view_module_version": "1.2.0",
            "_view_name": "StyleView",
            "description_width": ""
          }
        },
        "55a9c6e78464450f9330fc34224a61b7": {
          "model_module": "@jupyter-widgets/controls",
          "model_name": "HBoxModel",
          "model_module_version": "1.5.0",
          "state": {
            "_dom_classes": [],
            "_model_module": "@jupyter-widgets/controls",
            "_model_module_version": "1.5.0",
            "_model_name": "HBoxModel",
            "_view_count": null,
            "_view_module": "@jupyter-widgets/controls",
            "_view_module_version": "1.5.0",
            "_view_name": "HBoxView",
            "box_style": "",
            "children": [
              "IPY_MODEL_87e6f51051534787850240182c4ce74f",
              "IPY_MODEL_a0de286c71d6446394b876576492ce9c",
              "IPY_MODEL_fbb7fba6076e4af2a6bdeac5785ae6a1"
            ],
            "layout": "IPY_MODEL_0e6843c93fed4333bd0d0f9b79d0a579"
          }
        },
        "87e6f51051534787850240182c4ce74f": {
          "model_module": "@jupyter-widgets/controls",
          "model_name": "HTMLModel",
          "model_module_version": "1.5.0",
          "state": {
            "_dom_classes": [],
            "_model_module": "@jupyter-widgets/controls",
            "_model_module_version": "1.5.0",
            "_model_name": "HTMLModel",
            "_view_count": null,
            "_view_module": "@jupyter-widgets/controls",
            "_view_module_version": "1.5.0",
            "_view_name": "HTMLView",
            "description": "",
            "description_tooltip": null,
            "layout": "IPY_MODEL_5bfdfe7b08c4494c8e59acec7ed3cb20",
            "placeholder": "​",
            "style": "IPY_MODEL_17bfa6a8be4640689dbc654a672c7eb1",
            "value": "Making Predictions: 100%"
          }
        },
        "a0de286c71d6446394b876576492ce9c": {
          "model_module": "@jupyter-widgets/controls",
          "model_name": "FloatProgressModel",
          "model_module_version": "1.5.0",
          "state": {
            "_dom_classes": [],
            "_model_module": "@jupyter-widgets/controls",
            "_model_module_version": "1.5.0",
            "_model_name": "FloatProgressModel",
            "_view_count": null,
            "_view_module": "@jupyter-widgets/controls",
            "_view_module_version": "1.5.0",
            "_view_name": "ProgressView",
            "bar_style": "success",
            "description": "",
            "description_tooltip": null,
            "layout": "IPY_MODEL_d6e30b8759c3452b98d6dbe6b2e2867d",
            "max": 157,
            "min": 0,
            "orientation": "horizontal",
            "style": "IPY_MODEL_89a02032cf9447c2b7693bb50a7997f9",
            "value": 157
          }
        },
        "fbb7fba6076e4af2a6bdeac5785ae6a1": {
          "model_module": "@jupyter-widgets/controls",
          "model_name": "HTMLModel",
          "model_module_version": "1.5.0",
          "state": {
            "_dom_classes": [],
            "_model_module": "@jupyter-widgets/controls",
            "_model_module_version": "1.5.0",
            "_model_name": "HTMLModel",
            "_view_count": null,
            "_view_module": "@jupyter-widgets/controls",
            "_view_module_version": "1.5.0",
            "_view_name": "HTMLView",
            "description": "",
            "description_tooltip": null,
            "layout": "IPY_MODEL_a729550cc2494815b0cd85139aeb949c",
            "placeholder": "​",
            "style": "IPY_MODEL_482699f832fa447c9504c2990d799a6a",
            "value": " 157/157 [00:01&lt;00:00, 111.93it/s]"
          }
        },
        "0e6843c93fed4333bd0d0f9b79d0a579": {
          "model_module": "@jupyter-widgets/base",
          "model_name": "LayoutModel",
          "model_module_version": "1.2.0",
          "state": {
            "_model_module": "@jupyter-widgets/base",
            "_model_module_version": "1.2.0",
            "_model_name": "LayoutModel",
            "_view_count": null,
            "_view_module": "@jupyter-widgets/base",
            "_view_module_version": "1.2.0",
            "_view_name": "LayoutView",
            "align_content": null,
            "align_items": null,
            "align_self": null,
            "border": null,
            "bottom": null,
            "display": null,
            "flex": null,
            "flex_flow": null,
            "grid_area": null,
            "grid_auto_columns": null,
            "grid_auto_flow": null,
            "grid_auto_rows": null,
            "grid_column": null,
            "grid_gap": null,
            "grid_row": null,
            "grid_template_areas": null,
            "grid_template_columns": null,
            "grid_template_rows": null,
            "height": null,
            "justify_content": null,
            "justify_items": null,
            "left": null,
            "margin": null,
            "max_height": null,
            "max_width": null,
            "min_height": null,
            "min_width": null,
            "object_fit": null,
            "object_position": null,
            "order": null,
            "overflow": null,
            "overflow_x": null,
            "overflow_y": null,
            "padding": null,
            "right": null,
            "top": null,
            "visibility": null,
            "width": null
          }
        },
        "5bfdfe7b08c4494c8e59acec7ed3cb20": {
          "model_module": "@jupyter-widgets/base",
          "model_name": "LayoutModel",
          "model_module_version": "1.2.0",
          "state": {
            "_model_module": "@jupyter-widgets/base",
            "_model_module_version": "1.2.0",
            "_model_name": "LayoutModel",
            "_view_count": null,
            "_view_module": "@jupyter-widgets/base",
            "_view_module_version": "1.2.0",
            "_view_name": "LayoutView",
            "align_content": null,
            "align_items": null,
            "align_self": null,
            "border": null,
            "bottom": null,
            "display": null,
            "flex": null,
            "flex_flow": null,
            "grid_area": null,
            "grid_auto_columns": null,
            "grid_auto_flow": null,
            "grid_auto_rows": null,
            "grid_column": null,
            "grid_gap": null,
            "grid_row": null,
            "grid_template_areas": null,
            "grid_template_columns": null,
            "grid_template_rows": null,
            "height": null,
            "justify_content": null,
            "justify_items": null,
            "left": null,
            "margin": null,
            "max_height": null,
            "max_width": null,
            "min_height": null,
            "min_width": null,
            "object_fit": null,
            "object_position": null,
            "order": null,
            "overflow": null,
            "overflow_x": null,
            "overflow_y": null,
            "padding": null,
            "right": null,
            "top": null,
            "visibility": null,
            "width": null
          }
        },
        "17bfa6a8be4640689dbc654a672c7eb1": {
          "model_module": "@jupyter-widgets/controls",
          "model_name": "DescriptionStyleModel",
          "model_module_version": "1.5.0",
          "state": {
            "_model_module": "@jupyter-widgets/controls",
            "_model_module_version": "1.5.0",
            "_model_name": "DescriptionStyleModel",
            "_view_count": null,
            "_view_module": "@jupyter-widgets/base",
            "_view_module_version": "1.2.0",
            "_view_name": "StyleView",
            "description_width": ""
          }
        },
        "d6e30b8759c3452b98d6dbe6b2e2867d": {
          "model_module": "@jupyter-widgets/base",
          "model_name": "LayoutModel",
          "model_module_version": "1.2.0",
          "state": {
            "_model_module": "@jupyter-widgets/base",
            "_model_module_version": "1.2.0",
            "_model_name": "LayoutModel",
            "_view_count": null,
            "_view_module": "@jupyter-widgets/base",
            "_view_module_version": "1.2.0",
            "_view_name": "LayoutView",
            "align_content": null,
            "align_items": null,
            "align_self": null,
            "border": null,
            "bottom": null,
            "display": null,
            "flex": null,
            "flex_flow": null,
            "grid_area": null,
            "grid_auto_columns": null,
            "grid_auto_flow": null,
            "grid_auto_rows": null,
            "grid_column": null,
            "grid_gap": null,
            "grid_row": null,
            "grid_template_areas": null,
            "grid_template_columns": null,
            "grid_template_rows": null,
            "height": null,
            "justify_content": null,
            "justify_items": null,
            "left": null,
            "margin": null,
            "max_height": null,
            "max_width": null,
            "min_height": null,
            "min_width": null,
            "object_fit": null,
            "object_position": null,
            "order": null,
            "overflow": null,
            "overflow_x": null,
            "overflow_y": null,
            "padding": null,
            "right": null,
            "top": null,
            "visibility": null,
            "width": null
          }
        },
        "89a02032cf9447c2b7693bb50a7997f9": {
          "model_module": "@jupyter-widgets/controls",
          "model_name": "ProgressStyleModel",
          "model_module_version": "1.5.0",
          "state": {
            "_model_module": "@jupyter-widgets/controls",
            "_model_module_version": "1.5.0",
            "_model_name": "ProgressStyleModel",
            "_view_count": null,
            "_view_module": "@jupyter-widgets/base",
            "_view_module_version": "1.2.0",
            "_view_name": "StyleView",
            "bar_color": null,
            "description_width": ""
          }
        },
        "a729550cc2494815b0cd85139aeb949c": {
          "model_module": "@jupyter-widgets/base",
          "model_name": "LayoutModel",
          "model_module_version": "1.2.0",
          "state": {
            "_model_module": "@jupyter-widgets/base",
            "_model_module_version": "1.2.0",
            "_model_name": "LayoutModel",
            "_view_count": null,
            "_view_module": "@jupyter-widgets/base",
            "_view_module_version": "1.2.0",
            "_view_name": "LayoutView",
            "align_content": null,
            "align_items": null,
            "align_self": null,
            "border": null,
            "bottom": null,
            "display": null,
            "flex": null,
            "flex_flow": null,
            "grid_area": null,
            "grid_auto_columns": null,
            "grid_auto_flow": null,
            "grid_auto_rows": null,
            "grid_column": null,
            "grid_gap": null,
            "grid_row": null,
            "grid_template_areas": null,
            "grid_template_columns": null,
            "grid_template_rows": null,
            "height": null,
            "justify_content": null,
            "justify_items": null,
            "left": null,
            "margin": null,
            "max_height": null,
            "max_width": null,
            "min_height": null,
            "min_width": null,
            "object_fit": null,
            "object_position": null,
            "order": null,
            "overflow": null,
            "overflow_x": null,
            "overflow_y": null,
            "padding": null,
            "right": null,
            "top": null,
            "visibility": null,
            "width": null
          }
        },
        "482699f832fa447c9504c2990d799a6a": {
          "model_module": "@jupyter-widgets/controls",
          "model_name": "DescriptionStyleModel",
          "model_module_version": "1.5.0",
          "state": {
            "_model_module": "@jupyter-widgets/controls",
            "_model_module_version": "1.5.0",
            "_model_name": "DescriptionStyleModel",
            "_view_count": null,
            "_view_module": "@jupyter-widgets/base",
            "_view_module_version": "1.2.0",
            "_view_name": "StyleView",
            "description_width": ""
          }
        }
      }
    }
  },
  "cells": [
    {
      "cell_type": "markdown",
      "metadata": {
        "id": "view-in-github",
        "colab_type": "text"
      },
      "source": [
        "<a href=\"https://colab.research.google.com/github/ayberkozcan/pytorch-computer-vision/blob/main/Handwritten_Digits_Classification.ipynb\" target=\"_parent\"><img src=\"https://colab.research.google.com/assets/colab-badge.svg\" alt=\"Open In Colab\"/></a>"
      ]
    },
    {
      "cell_type": "markdown",
      "source": [
        "# Handwritten Digits Classification Using PyTorch"
      ],
      "metadata": {
        "id": "dQAxdSluiyrz"
      }
    },
    {
      "cell_type": "markdown",
      "source": [
        "## Importing Libraries"
      ],
      "metadata": {
        "id": "iYuqKyfZi9bU"
      }
    },
    {
      "cell_type": "code",
      "execution_count": 1,
      "metadata": {
        "id": "UkisCaFmhX85",
        "colab": {
          "base_uri": "https://localhost:8080/"
        },
        "outputId": "f2991a3c-74ab-41a1-ea9e-d62e192cefb1"
      },
      "outputs": [
        {
          "output_type": "stream",
          "name": "stdout",
          "text": [
            "PyTorch version: 2.5.1+cu124\n",
            "Torchvision version: 0.20.1+cu124\n"
          ]
        }
      ],
      "source": [
        "import torch\n",
        "from torch import nn\n",
        "\n",
        "import torchvision\n",
        "from torchvision import datasets\n",
        "from torchvision.transforms import ToTensor\n",
        "\n",
        "import matplotlib.pyplot as plt\n",
        "\n",
        "print(f\"PyTorch version: {torch.__version__}\\nTorchvision version: {torchvision.__version__}\")"
      ]
    },
    {
      "cell_type": "code",
      "source": [
        "device = \"cuda\" if torch.cuda.is_available() else \"cpu\"\n",
        "device"
      ],
      "metadata": {
        "colab": {
          "base_uri": "https://localhost:8080/",
          "height": 35
        },
        "id": "_jvXL0eZjE9Z",
        "outputId": "d26485b0-cf60-4f17-8983-6fa2da36a45f"
      },
      "execution_count": 2,
      "outputs": [
        {
          "output_type": "execute_result",
          "data": {
            "text/plain": [
              "'cuda'"
            ],
            "application/vnd.google.colaboratory.intrinsic+json": {
              "type": "string"
            }
          },
          "metadata": {},
          "execution_count": 2
        }
      ]
    },
    {
      "cell_type": "markdown",
      "source": [
        "## Downloading MNIST Dataset"
      ],
      "metadata": {
        "id": "Q3AXcUKAjMDh"
      }
    },
    {
      "cell_type": "code",
      "source": [
        "train_data = datasets.MNIST(\n",
        "    root=\"data\",\n",
        "    train=True,\n",
        "    transform=ToTensor(),\n",
        "    target_transform=None,\n",
        "    download=True\n",
        ")\n",
        "\n",
        "test_data = datasets.MNIST(\n",
        "    root=\"data\",\n",
        "    train=False,\n",
        "    transform=ToTensor(),\n",
        "    download=True\n",
        ")"
      ],
      "metadata": {
        "id": "BhOwOR79jKeH",
        "colab": {
          "base_uri": "https://localhost:8080/"
        },
        "outputId": "6d2d9f3b-5f8c-4856-b83c-ecc453d20902"
      },
      "execution_count": 3,
      "outputs": [
        {
          "output_type": "stream",
          "name": "stdout",
          "text": [
            "Downloading http://yann.lecun.com/exdb/mnist/train-images-idx3-ubyte.gz\n",
            "Failed to download (trying next):\n",
            "HTTP Error 404: Not Found\n",
            "\n",
            "Downloading https://ossci-datasets.s3.amazonaws.com/mnist/train-images-idx3-ubyte.gz\n",
            "Downloading https://ossci-datasets.s3.amazonaws.com/mnist/train-images-idx3-ubyte.gz to data/MNIST/raw/train-images-idx3-ubyte.gz\n"
          ]
        },
        {
          "output_type": "stream",
          "name": "stderr",
          "text": [
            "100%|██████████| 9.91M/9.91M [00:00<00:00, 17.6MB/s]\n"
          ]
        },
        {
          "output_type": "stream",
          "name": "stdout",
          "text": [
            "Extracting data/MNIST/raw/train-images-idx3-ubyte.gz to data/MNIST/raw\n",
            "\n",
            "Downloading http://yann.lecun.com/exdb/mnist/train-labels-idx1-ubyte.gz\n",
            "Failed to download (trying next):\n",
            "HTTP Error 404: Not Found\n",
            "\n",
            "Downloading https://ossci-datasets.s3.amazonaws.com/mnist/train-labels-idx1-ubyte.gz\n",
            "Downloading https://ossci-datasets.s3.amazonaws.com/mnist/train-labels-idx1-ubyte.gz to data/MNIST/raw/train-labels-idx1-ubyte.gz\n"
          ]
        },
        {
          "output_type": "stream",
          "name": "stderr",
          "text": [
            "100%|██████████| 28.9k/28.9k [00:00<00:00, 479kB/s]\n"
          ]
        },
        {
          "output_type": "stream",
          "name": "stdout",
          "text": [
            "Extracting data/MNIST/raw/train-labels-idx1-ubyte.gz to data/MNIST/raw\n",
            "\n",
            "Downloading http://yann.lecun.com/exdb/mnist/t10k-images-idx3-ubyte.gz\n",
            "Failed to download (trying next):\n",
            "HTTP Error 404: Not Found\n",
            "\n",
            "Downloading https://ossci-datasets.s3.amazonaws.com/mnist/t10k-images-idx3-ubyte.gz\n",
            "Downloading https://ossci-datasets.s3.amazonaws.com/mnist/t10k-images-idx3-ubyte.gz to data/MNIST/raw/t10k-images-idx3-ubyte.gz\n"
          ]
        },
        {
          "output_type": "stream",
          "name": "stderr",
          "text": [
            "100%|██████████| 1.65M/1.65M [00:00<00:00, 3.81MB/s]\n"
          ]
        },
        {
          "output_type": "stream",
          "name": "stdout",
          "text": [
            "Extracting data/MNIST/raw/t10k-images-idx3-ubyte.gz to data/MNIST/raw\n",
            "\n",
            "Downloading http://yann.lecun.com/exdb/mnist/t10k-labels-idx1-ubyte.gz\n",
            "Failed to download (trying next):\n",
            "HTTP Error 404: Not Found\n",
            "\n",
            "Downloading https://ossci-datasets.s3.amazonaws.com/mnist/t10k-labels-idx1-ubyte.gz\n",
            "Downloading https://ossci-datasets.s3.amazonaws.com/mnist/t10k-labels-idx1-ubyte.gz to data/MNIST/raw/t10k-labels-idx1-ubyte.gz\n"
          ]
        },
        {
          "output_type": "stream",
          "name": "stderr",
          "text": [
            "100%|██████████| 4.54k/4.54k [00:00<00:00, 7.34MB/s]"
          ]
        },
        {
          "output_type": "stream",
          "name": "stdout",
          "text": [
            "Extracting data/MNIST/raw/t10k-labels-idx1-ubyte.gz to data/MNIST/raw\n",
            "\n"
          ]
        },
        {
          "output_type": "stream",
          "name": "stderr",
          "text": [
            "\n"
          ]
        }
      ]
    },
    {
      "cell_type": "markdown",
      "source": [
        "## Recognizing our Dataset"
      ],
      "metadata": {
        "id": "OKWq4QBhjxX1"
      }
    },
    {
      "cell_type": "code",
      "source": [
        "len(train_data.data), len(train_data.targets), len(test_data.data), len(test_data.targets)"
      ],
      "metadata": {
        "colab": {
          "base_uri": "https://localhost:8080/"
        },
        "id": "Xrc-h4Y7jfS5",
        "outputId": "594c8671-7720-48da-9c88-3a37242dca7f"
      },
      "execution_count": 4,
      "outputs": [
        {
          "output_type": "execute_result",
          "data": {
            "text/plain": [
              "(60000, 60000, 10000, 10000)"
            ]
          },
          "metadata": {},
          "execution_count": 4
        }
      ]
    },
    {
      "cell_type": "markdown",
      "source": [
        "There are 60.000 training samples and 10.000 testing samples."
      ],
      "metadata": {
        "id": "YF5mwAgujqfB"
      }
    },
    {
      "cell_type": "code",
      "source": [
        "# Let's see classes\n",
        "class_names = train_data.classes\n",
        "class_names"
      ],
      "metadata": {
        "colab": {
          "base_uri": "https://localhost:8080/"
        },
        "id": "8JdWm2yujogw",
        "outputId": "05aa4df1-2173-41dd-9425-a7024bf9a8c0"
      },
      "execution_count": 5,
      "outputs": [
        {
          "output_type": "execute_result",
          "data": {
            "text/plain": [
              "['0 - zero',\n",
              " '1 - one',\n",
              " '2 - two',\n",
              " '3 - three',\n",
              " '4 - four',\n",
              " '5 - five',\n",
              " '6 - six',\n",
              " '7 - seven',\n",
              " '8 - eight',\n",
              " '9 - nine']"
            ]
          },
          "metadata": {},
          "execution_count": 5
        }
      ]
    },
    {
      "cell_type": "code",
      "source": [
        "image, label = train_data[0]\n",
        "\n",
        "print(f\"Image shape: {image.shape}\")\n",
        "plt.imshow(image.squeeze())\n",
        "plt.title(label)\n",
        "plt.show()"
      ],
      "metadata": {
        "colab": {
          "base_uri": "https://localhost:8080/",
          "height": 469
        },
        "id": "cnjr6WDpjwBl",
        "outputId": "abb4cafe-3731-4c0e-fcb9-81ca35dad0bb"
      },
      "execution_count": 6,
      "outputs": [
        {
          "output_type": "stream",
          "name": "stdout",
          "text": [
            "Image shape: torch.Size([1, 28, 28])\n"
          ]
        },
        {
          "output_type": "display_data",
          "data": {
            "text/plain": [
              "<Figure size 640x480 with 1 Axes>"
            ],
            "image/png": "[encoded data removed]"
          },
          "metadata": {}
        }
      ]
    },
    {
      "cell_type": "code",
      "source": [
        "# Let's turn the image into grayscale\n",
        "plt.imshow(image.squeeze(), cmap=\"gray\")\n",
        "plt.title(label)\n",
        "plt.show()"
      ],
      "metadata": {
        "colab": {
          "base_uri": "https://localhost:8080/",
          "height": 452
        },
        "id": "sFNXYzSVkCPo",
        "outputId": "41708165-258f-44f4-9fa8-6b2cf1db8314"
      },
      "execution_count": 7,
      "outputs": [
        {
          "output_type": "display_data",
          "data": {
            "text/plain": [
              "<Figure size 640x480 with 1 Axes>"
            ],
            "image/png": "[encoded data removed]"
          },
          "metadata": {}
        }
      ]
    },
    {
      "cell_type": "code",
      "source": [
        "# Let's plot more images\n",
        "fig = plt.figure(figsize=(9, 9))\n",
        "rows, cols = 3, 3\n",
        "for i in range(1, rows * cols + 1):\n",
        "  random_idx = torch.randint(0, len(train_data), size=[1]).item()\n",
        "  image, label = train_data[random_idx]\n",
        "  fig.add_subplot(rows, cols, i)\n",
        "  plt.imshow(image.squeeze(), cmap=\"gray\")\n",
        "  plt.title(class_names[label])\n",
        "  plt.axis(False);"
      ],
      "metadata": {
        "colab": {
          "base_uri": "https://localhost:8080/",
          "height": 752
        },
        "id": "gv2ORSEokRgL",
        "outputId": "1a4e7566-b549-4dd6-dcfd-be63fb6f5aa4"
      },
      "execution_count": 8,
      "outputs": [
        {
          "output_type": "display_data",
          "data": {
            "text/plain": [
              "<Figure size 900x900 with 9 Axes>"
            ],
            "image/png": "[encoded data removed]"
          },
          "metadata": {}
        }
      ]
    },
    {
      "cell_type": "code",
      "source": [
        "from torch.utils.data import DataLoader\n",
        "\n",
        "BATCH_SIZE = 64\n",
        "\n",
        "train_dataloader = DataLoader(\n",
        "    train_data,\n",
        "    batch_size=BATCH_SIZE,\n",
        "    num_workers=1,\n",
        "    shuffle=True\n",
        ")\n",
        "\n",
        "test_dataloader = DataLoader(\n",
        "    test_data,\n",
        "    batch_size=BATCH_SIZE,\n",
        "    num_workers=1,\n",
        "    shuffle=False\n",
        ")"
      ],
      "metadata": {
        "id": "9a_ClGYIktuz"
      },
      "execution_count": 9,
      "outputs": []
    },
    {
      "cell_type": "code",
      "source": [
        "print(f\"Length of train dataloader: {len(train_dataloader)}\")\n",
        "print(f\"Length of test dataloader: {len(test_dataloader)}\")"
      ],
      "metadata": {
        "colab": {
          "base_uri": "https://localhost:8080/"
        },
        "id": "3luWUqT3ODo7",
        "outputId": "6355e40b-9b8b-427e-dd15-e9ffbb0569d7"
      },
      "execution_count": 10,
      "outputs": [
        {
          "output_type": "stream",
          "name": "stdout",
          "text": [
            "Length of train dataloader: 938\n",
            "Length of test dataloader: 157\n"
          ]
        }
      ]
    },
    {
      "cell_type": "code",
      "source": [
        "# Let's see a sample\n",
        "train_features_batch, train_labels_batch = next(iter(train_dataloader))\n",
        "\n",
        "random_idx = torch.randint(0, len(train_features_batch), size=[1]).item()\n",
        "image, label = train_features_batch[random_idx], train_labels_batch[random_idx]\n",
        "\n",
        "plt.imshow(image.squeeze(), cmap=\"gray\")\n",
        "plt.title(class_names[label])\n",
        "plt.axis(\"Off\");"
      ],
      "metadata": {
        "colab": {
          "base_uri": "https://localhost:8080/",
          "height": 428
        },
        "id": "x-QOaR1xOMQc",
        "outputId": "218fc1fb-6a94-4eda-fb7a-cd536067207d"
      },
      "execution_count": 11,
      "outputs": [
        {
          "output_type": "display_data",
          "data": {
            "text/plain": [
              "<Figure size 640x480 with 1 Axes>"
            ],
            "image/png": "[encoded data removed]"
          },
          "metadata": {}
        }
      ]
    },
    {
      "cell_type": "markdown",
      "source": [
        "## Building a Model"
      ],
      "metadata": {
        "id": "73vEvQWzPGRL"
      }
    },
    {
      "cell_type": "code",
      "source": [
        "class MNISTModel_0(nn.Module):\n",
        "  def __init__(self, input_shape=784, hidden_units=128, output_shape=10):\n",
        "    super().__init__()\n",
        "    self.layer_stack = nn.Sequential(\n",
        "        nn.Flatten(),\n",
        "        nn.Linear(in_features=input_shape, out_features=hidden_units),\n",
        "        nn.ReLU(),\n",
        "        nn.Linear(in_features=hidden_units, out_features=output_shape)\n",
        "    )\n",
        "  def forward(self, x):\n",
        "    return self.layer_stack(x)"
      ],
      "metadata": {
        "id": "PKDRrGFYPCQS"
      },
      "execution_count": 12,
      "outputs": []
    },
    {
      "cell_type": "code",
      "source": [
        "model_0 = MNISTModel_0(\n",
        "    input_shape=784,\n",
        "    hidden_units=128,\n",
        "    output_shape=len(class_names)\n",
        ")\n",
        "model_0"
      ],
      "metadata": {
        "colab": {
          "base_uri": "https://localhost:8080/"
        },
        "id": "BjaOoUtMQfNt",
        "outputId": "54cc7a84-0dfb-45fb-a118-9c23041c8568"
      },
      "execution_count": 13,
      "outputs": [
        {
          "output_type": "execute_result",
          "data": {
            "text/plain": [
              "MNISTModel_0(\n",
              "  (layer_stack): Sequential(\n",
              "    (0): Flatten(start_dim=1, end_dim=-1)\n",
              "    (1): Linear(in_features=784, out_features=128, bias=True)\n",
              "    (2): ReLU()\n",
              "    (3): Linear(in_features=128, out_features=10, bias=True)\n",
              "  )\n",
              ")"
            ]
          },
          "metadata": {},
          "execution_count": 13
        }
      ]
    },
    {
      "cell_type": "code",
      "source": [
        "import requests\n",
        "from pathlib import Path\n",
        "\n",
        "if Path(\"helper_functions.py\").is_file():\n",
        "  print(\"helper_functions.py already exists!\")\n",
        "else:\n",
        "  print(\"Downloading helper_functions.py\")\n",
        "  request = requests.get(\"https://raw.githubusercontent.com/mrdbourke/pytorch-deep-learning/main/helper_functions.py\")\n",
        "  with open(\"helper_functions.py\", \"wb\") as f:\n",
        "    f.write(request.content)"
      ],
      "metadata": {
        "colab": {
          "base_uri": "https://localhost:8080/"
        },
        "id": "FTnI2ElhQ2Tp",
        "outputId": "a6a487d8-6b5c-447b-846f-764d85ed875e"
      },
      "execution_count": 14,
      "outputs": [
        {
          "output_type": "stream",
          "name": "stdout",
          "text": [
            "Downloading helper_functions.py\n"
          ]
        }
      ]
    },
    {
      "cell_type": "code",
      "source": [
        "from helper_functions import accuracy_fn\n",
        "\n",
        "loss_fn = nn.CrossEntropyLoss()\n",
        "optimizer = torch.optim.SGD(params=model_0.parameters(), lr=0.1)"
      ],
      "metadata": {
        "id": "aYS2Ycx_QtKz"
      },
      "execution_count": 15,
      "outputs": []
    },
    {
      "cell_type": "markdown",
      "source": [
        "## Measuring Time Function"
      ],
      "metadata": {
        "id": "G-rHK2kPSBcN"
      }
    },
    {
      "cell_type": "markdown",
      "source": [
        "We are going to measure time for different models."
      ],
      "metadata": {
        "id": "P0Eb7kLLSGiU"
      }
    },
    {
      "cell_type": "code",
      "source": [
        "from timeit import default_timer as timer\n",
        "\n",
        "def measure_time(start, end):\n",
        "  total_time = end - start\n",
        "  return total_time"
      ],
      "metadata": {
        "id": "jzPufpysRrwd"
      },
      "execution_count": 16,
      "outputs": []
    },
    {
      "cell_type": "markdown",
      "source": [
        "## Training Loop and Training a Model"
      ],
      "metadata": {
        "id": "X0oC4tSWSc-C"
      }
    },
    {
      "cell_type": "code",
      "source": [
        "from tqdm.auto import tqdm\n",
        "\n",
        "train_time_start = timer()\n",
        "\n",
        "epochs = 10\n",
        "\n",
        "results = {\n",
        "    \"train_loss\": [],\n",
        "    \"train_acc\": [],\n",
        "    \"test_loss\": [],\n",
        "    \"test_acc\": []\n",
        "}\n",
        "\n",
        "for epoch in tqdm(range(epochs)):\n",
        "  print(f\"Epoch: {epoch}\\n------\")\n",
        "\n",
        "  train_loss, train_acc = 0, 0\n",
        "\n",
        "  for batch, (X, y) in enumerate(train_dataloader):\n",
        "    model_0.train()\n",
        "\n",
        "    y_pred = model_0(X)\n",
        "\n",
        "    loss = loss_fn(y_pred, y)\n",
        "    train_loss += loss\n",
        "\n",
        "    train_acc += accuracy_fn(\n",
        "        y_true=y,\n",
        "        y_pred=y_pred.argmax(dim=1))\n",
        "\n",
        "    optimizer.zero_grad()\n",
        "\n",
        "    loss.backward()\n",
        "\n",
        "    optimizer.step()\n",
        "\n",
        "    if batch % 400 == 0:\n",
        "      print(f\"Looked at {batch * len(X)}/{len(train_dataloader.dataset)} samples\")\n",
        "\n",
        "  train_loss /= len(train_dataloader)\n",
        "  train_acc /= len(train_dataloader)\n",
        "\n",
        "  test_loss, test_acc = 0, 0\n",
        "  model_0.eval()\n",
        "  with torch.inference_mode():\n",
        "    for X, y in test_dataloader:\n",
        "      test_pred = model_0(X)\n",
        "\n",
        "      loss = loss_fn(test_pred, y)\n",
        "      test_loss += loss\n",
        "\n",
        "      accuracy = accuracy_fn(y_true=y, y_pred=test_pred.argmax(dim=1))\n",
        "      test_acc += accuracy\n",
        "\n",
        "    test_loss /= len(test_dataloader)\n",
        "    test_acc /= len(test_dataloader)\n",
        "\n",
        "  print(f\"\\nTrain Loss: {train_loss:.5f} | Train Accuracy: {train_acc:.2f}%, Test Loss: {test_loss:.5f} | Test Accuracy: {test_acc:.2f}%\\n\")\n",
        "\n",
        "  results[\"train_loss\"].append(train_loss.item() if isinstance(train_loss, torch.Tensor) else train_loss)\n",
        "  results[\"train_acc\"].append(train_acc.item() if isinstance(train_acc, torch.Tensor) else train_acc)\n",
        "  results[\"test_loss\"].append(test_loss.item() if isinstance(test_loss, torch.Tensor) else test_loss)\n",
        "  results[\"test_acc\"].append(test_acc.item() if isinstance(test_acc, torch.Tensor) else test_acc)\n",
        "\n",
        "# Measuring time\n",
        "train_time_end = timer()\n",
        "total_time_on_model_0 = measure_time(train_time_start, train_time_end)"
      ],
      "metadata": {
        "colab": {
          "base_uri": "https://localhost:8080/",
          "height": 1000,
          "referenced_widgets": [
            "30329956aab74606b1aefbf3da1744e1",
            "394059d698a3424c97cae308b199c5fa",
            "46d6968ebbdc4eb5950ed8429abac7bc",
            "47519c4665a74fc882c0c37c0712d443",
            "086390d436ec4d428416fa93c9e48bbc",
            "08faa9e666ab4f019bf7b3393292b129",
            "8daa244bc9a4480db587c77f17d68ba2",
            "020d835b70ec4855b6f13a16514c58e5",
            "6d284c632c06445a804c71864f897edb",
            "93339d88aa76491db6165ce1471010d0",
            "4a3916385773463ea5497f23e71f7ab1"
          ]
        },
        "id": "OYlPinV1Q1jI",
        "outputId": "c9752c5c-9b46-42f8-a344-a3f030e277ae"
      },
      "execution_count": 17,
      "outputs": [
        {
          "output_type": "display_data",
          "data": {
            "text/plain": [
              "  0%|          | 0/10 [00:00<?, ?it/s]"
            ],
            "application/vnd.jupyter.widget-view+json": {
              "version_major": 2,
              "version_minor": 0,
              "model_id": "30329956aab74606b1aefbf3da1744e1"
            }
          },
          "metadata": {}
        },
        {
          "output_type": "stream",
          "name": "stdout",
          "text": [
            "Epoch: 0\n",
            "------\n",
            "Looked at 0/60000 samples\n",
            "Looked at 25600/60000 samples\n",
            "Looked at 51200/60000 samples\n",
            "\n",
            "Train Loss: 0.44041 | Train Accuracy: 88.20%, Test Loss: 0.25492 | Test Accuracy: 92.69%\n",
            "\n",
            "Epoch: 1\n",
            "------\n",
            "Looked at 0/60000 samples\n",
            "Looked at 25600/60000 samples\n",
            "Looked at 51200/60000 samples\n",
            "\n",
            "Train Loss: 0.22541 | Train Accuracy: 93.56%, Test Loss: 0.18094 | Test Accuracy: 94.74%\n",
            "\n",
            "Epoch: 2\n",
            "------\n",
            "Looked at 0/60000 samples\n",
            "Looked at 25600/60000 samples\n",
            "Looked at 51200/60000 samples\n",
            "\n",
            "Train Loss: 0.16913 | Train Accuracy: 95.25%, Test Loss: 0.15692 | Test Accuracy: 95.29%\n",
            "\n",
            "Epoch: 3\n",
            "------\n",
            "Looked at 0/60000 samples\n",
            "Looked at 25600/60000 samples\n",
            "Looked at 51200/60000 samples\n",
            "\n",
            "Train Loss: 0.13453 | Train Accuracy: 96.13%, Test Loss: 0.12104 | Test Accuracy: 96.34%\n",
            "\n",
            "Epoch: 4\n",
            "------\n",
            "Looked at 0/60000 samples\n",
            "Looked at 25600/60000 samples\n",
            "Looked at 51200/60000 samples\n",
            "\n",
            "Train Loss: 0.11248 | Train Accuracy: 96.84%, Test Loss: 0.10613 | Test Accuracy: 96.91%\n",
            "\n",
            "Epoch: 5\n",
            "------\n",
            "Looked at 0/60000 samples\n",
            "Looked at 25600/60000 samples\n",
            "Looked at 51200/60000 samples\n",
            "\n",
            "Train Loss: 0.09664 | Train Accuracy: 97.26%, Test Loss: 0.09404 | Test Accuracy: 97.35%\n",
            "\n",
            "Epoch: 6\n",
            "------\n",
            "Looked at 0/60000 samples\n",
            "Looked at 25600/60000 samples\n",
            "Looked at 51200/60000 samples\n",
            "\n",
            "Train Loss: 0.08494 | Train Accuracy: 97.62%, Test Loss: 0.09495 | Test Accuracy: 97.12%\n",
            "\n",
            "Epoch: 7\n",
            "------\n",
            "Looked at 0/60000 samples\n",
            "Looked at 25600/60000 samples\n",
            "Looked at 51200/60000 samples\n",
            "\n",
            "Train Loss: 0.07563 | Train Accuracy: 97.88%, Test Loss: 0.08568 | Test Accuracy: 97.31%\n",
            "\n",
            "Epoch: 8\n",
            "------\n",
            "Looked at 0/60000 samples\n",
            "Looked at 25600/60000 samples\n",
            "Looked at 51200/60000 samples\n",
            "\n",
            "Train Loss: 0.06783 | Train Accuracy: 98.06%, Test Loss: 0.08070 | Test Accuracy: 97.47%\n",
            "\n",
            "Epoch: 9\n",
            "------\n",
            "Looked at 0/60000 samples\n",
            "Looked at 25600/60000 samples\n",
            "Looked at 51200/60000 samples\n",
            "\n",
            "Train Loss: 0.06142 | Train Accuracy: 98.29%, Test Loss: 0.07711 | Test Accuracy: 97.73%\n",
            "\n"
          ]
        }
      ]
    },
    {
      "cell_type": "code",
      "source": [
        "loss = results['train_loss']\n",
        "test_loss = results['test_loss']\n",
        "\n",
        "accuracy = results['train_acc']\n",
        "test_accuracy = results['test_acc']\n",
        "\n",
        "epochs = range(len(results['train_loss']))"
      ],
      "metadata": {
        "id": "celZGnhu0VwU"
      },
      "execution_count": 18,
      "outputs": []
    },
    {
      "cell_type": "code",
      "source": [
        "plt.figure(figsize=(7, 4))\n",
        "\n",
        "plt.subplot(1, 2, 1)\n",
        "plt.plot(epochs, loss, label='Train Loss')\n",
        "plt.plot(epochs, test_loss, label='Test Loss')\n",
        "plt.title('Loss')\n",
        "plt.xlabel('Epochs')\n",
        "plt.legend()\n",
        "\n",
        "plt.subplot(1, 2, 2)\n",
        "plt.plot(epochs, accuracy, label='Train Accuracy')\n",
        "plt.plot(epochs, test_accuracy, label='Test Accuracy')\n",
        "plt.title('Accuracy')\n",
        "plt.xlabel('Epochs')\n",
        "plt.legend();"
      ],
      "metadata": {
        "colab": {
          "base_uri": "https://localhost:8080/",
          "height": 410
        },
        "id": "wf6ResTj0erk",
        "outputId": "67099b85-b72e-402d-d52c-9039c443c3e0"
      },
      "execution_count": 19,
      "outputs": [
        {
          "output_type": "display_data",
          "data": {
            "text/plain": [
              "<Figure size 700x400 with 2 Axes>"
            ],
            "image/png": "[encoded data removed]"
          },
          "metadata": {}
        }
      ]
    },
    {
      "cell_type": "markdown",
      "source": [
        "Looks like our model work pretty good.\n",
        "\n",
        "Let's make a confusion matrix for further prediction evaluation."
      ],
      "metadata": {
        "id": "RFsRAgOcFDcG"
      }
    },
    {
      "cell_type": "markdown",
      "source": [
        "## Confusion Matrix"
      ],
      "metadata": {
        "id": "7-HpyEdEtz_Z"
      }
    },
    {
      "cell_type": "markdown",
      "source": [
        "First, we're going to make predictions with our trained model."
      ],
      "metadata": {
        "id": "_Eo1GG25FVSN"
      }
    },
    {
      "cell_type": "code",
      "source": [
        "# Progress Bar\n",
        "from tqdm.auto import tqdm\n",
        "\n",
        "y_preds = []\n",
        "\n",
        "model_0.to(device)\n",
        "\n",
        "model_0.eval()\n",
        "with torch.inference_mode():\n",
        "  for X, y in tqdm(test_dataloader, desc=\"Making Predictions\"):\n",
        "    X, y = X.to(device), y.to(device)\n",
        "\n",
        "    y_logit = model_0(X)\n",
        "\n",
        "    y_pred = torch.softmax(y_logit, dim=1).argmax(dim=1)\n",
        "\n",
        "    y_preds.append(y_pred.cpu())\n",
        "\n",
        "y_pred_tensor = torch.cat(y_preds)"
      ],
      "metadata": {
        "colab": {
          "base_uri": "https://localhost:8080/",
          "height": 49,
          "referenced_widgets": [
            "55a9c6e78464450f9330fc34224a61b7",
            "87e6f51051534787850240182c4ce74f",
            "a0de286c71d6446394b876576492ce9c",
            "fbb7fba6076e4af2a6bdeac5785ae6a1",
            "0e6843c93fed4333bd0d0f9b79d0a579",
            "5bfdfe7b08c4494c8e59acec7ed3cb20",
            "17bfa6a8be4640689dbc654a672c7eb1",
            "d6e30b8759c3452b98d6dbe6b2e2867d",
            "89a02032cf9447c2b7693bb50a7997f9",
            "a729550cc2494815b0cd85139aeb949c",
            "482699f832fa447c9504c2990d799a6a"
          ]
        },
        "id": "27wLzeFqFNbu",
        "outputId": "c477d8ee-d495-4715-e4a2-1e1d780c341f"
      },
      "execution_count": 20,
      "outputs": [
        {
          "output_type": "display_data",
          "data": {
            "text/plain": [
              "Making Predictions:   0%|          | 0/157 [00:00<?, ?it/s]"
            ],
            "application/vnd.jupyter.widget-view+json": {
              "version_major": 2,
              "version_minor": 0,
              "model_id": "55a9c6e78464450f9330fc34224a61b7"
            }
          },
          "metadata": {}
        }
      ]
    },
    {
      "cell_type": "markdown",
      "source": [
        "And now, we're going to import or install some libraries for confusion matrix and plotting"
      ],
      "metadata": {
        "id": "vTKkAVe5Gony"
      }
    },
    {
      "cell_type": "code",
      "source": [
        "try:\n",
        "  import torchmetrics, mlxtend\n",
        "except:\n",
        "  !pip install -q torchmetrics -U mlxtend"
      ],
      "metadata": {
        "colab": {
          "base_uri": "https://localhost:8080/"
        },
        "id": "XtiYkdl8GI6a",
        "outputId": "48a7c46c-119c-48e8-e3fe-cc2abf795e9d"
      },
      "execution_count": 21,
      "outputs": [
        {
          "output_type": "stream",
          "name": "stdout",
          "text": [
            "\u001b[2K   \u001b[90m━━━━━━━━━━━━━━━━━━━━━━━━━━━━━━━━━━━━━━━━\u001b[0m \u001b[32m927.3/927.3 kB\u001b[0m \u001b[31m26.0 MB/s\u001b[0m eta \u001b[36m0:00:00\u001b[0m\n",
            "\u001b[2K   \u001b[90m━━━━━━━━━━━━━━━━━━━━━━━━━━━━━━━━━━━━━━━━\u001b[0m \u001b[32m363.4/363.4 MB\u001b[0m \u001b[31m4.1 MB/s\u001b[0m eta \u001b[36m0:00:00\u001b[0m\n",
            "\u001b[2K   \u001b[90m━━━━━━━━━━━━━━━━━━━━━━━━━━━━━━━━━━━━━━━━\u001b[0m \u001b[32m13.8/13.8 MB\u001b[0m \u001b[31m111.2 MB/s\u001b[0m eta \u001b[36m0:00:00\u001b[0m\n",
            "\u001b[2K   \u001b[90m━━━━━━━━━━━━━━━━━━━━━━━━━━━━━━━━━━━━━━━━\u001b[0m \u001b[32m24.6/24.6 MB\u001b[0m \u001b[31m84.8 MB/s\u001b[0m eta \u001b[36m0:00:00\u001b[0m\n",
            "\u001b[2K   \u001b[90m━━━━━━━━━━━━━━━━━━━━━━━━━━━━━━━━━━━━━━━━\u001b[0m \u001b[32m883.7/883.7 kB\u001b[0m \u001b[31m56.4 MB/s\u001b[0m eta \u001b[36m0:00:00\u001b[0m\n",
            "\u001b[2K   \u001b[90m━━━━━━━━━━━━━━━━━━━━━━━━━━━━━━━━━━━━━━━━\u001b[0m \u001b[32m664.8/664.8 MB\u001b[0m \u001b[31m1.5 MB/s\u001b[0m eta \u001b[36m0:00:00\u001b[0m\n",
            "\u001b[2K   \u001b[90m━━━━━━━━━━━━━━━━━━━━━━━━━━━━━━━━━━━━━━━━\u001b[0m \u001b[32m211.5/211.5 MB\u001b[0m \u001b[31m4.7 MB/s\u001b[0m eta \u001b[36m0:00:00\u001b[0m\n",
            "\u001b[2K   \u001b[90m━━━━━━━━━━━━━━━━━━━━━━━━━━━━━━━━━━━━━━━━\u001b[0m \u001b[32m56.3/56.3 MB\u001b[0m \u001b[31m16.3 MB/s\u001b[0m eta \u001b[36m0:00:00\u001b[0m\n",
            "\u001b[2K   \u001b[90m━━━━━━━━━━━━━━━━━━━━━━━━━━━━━━━━━━━━━━━━\u001b[0m \u001b[32m127.9/127.9 MB\u001b[0m \u001b[31m8.2 MB/s\u001b[0m eta \u001b[36m0:00:00\u001b[0m\n",
            "\u001b[2K   \u001b[90m━━━━━━━━━━━━━━━━━━━━━━━━━━━━━━━━━━━━━━━━\u001b[0m \u001b[32m207.5/207.5 MB\u001b[0m \u001b[31m5.9 MB/s\u001b[0m eta \u001b[36m0:00:00\u001b[0m\n",
            "\u001b[2K   \u001b[90m━━━━━━━━━━━━━━━━━━━━━━━━━━━━━━━━━━━━━━━━\u001b[0m \u001b[32m21.1/21.1 MB\u001b[0m \u001b[31m90.3 MB/s\u001b[0m eta \u001b[36m0:00:00\u001b[0m\n",
            "\u001b[?25h"
          ]
        }
      ]
    },
    {
      "cell_type": "code",
      "source": [
        "import torchmetrics, mlxtend"
      ],
      "metadata": {
        "id": "-xkkGs5OHA-U"
      },
      "execution_count": 22,
      "outputs": []
    },
    {
      "cell_type": "code",
      "source": [
        "print(f\"torchmetrics version: {torchmetrics.__version__}\")\n",
        "print(f\"mlxtend version: {mlxtend.__version__}\")"
      ],
      "metadata": {
        "colab": {
          "base_uri": "https://localhost:8080/"
        },
        "id": "kisGoKlAG3-w",
        "outputId": "dea3a089-fc66-4c49-cd7f-dc521463401e"
      },
      "execution_count": 23,
      "outputs": [
        {
          "output_type": "stream",
          "name": "stdout",
          "text": [
            "torchmetrics version: 1.6.1\n",
            "mlxtend version: 0.23.4\n"
          ]
        }
      ]
    },
    {
      "cell_type": "code",
      "source": [
        "from torchmetrics import ConfusionMatrix\n",
        "from mlxtend.plotting import plot_confusion_matrix\n",
        "\n",
        "confmat = ConfusionMatrix(\n",
        "    num_classes=len(class_names),\n",
        "    task=\"multiclass\"\n",
        ")\n",
        "confmat_tensor = confmat(\n",
        "    preds=y_pred_tensor,\n",
        "    target=test_data.targets\n",
        ")"
      ],
      "metadata": {
        "id": "ddY57yJRHLCc"
      },
      "execution_count": 24,
      "outputs": []
    },
    {
      "cell_type": "code",
      "source": [
        "fig, ax = plot_confusion_matrix(\n",
        "    conf_mat=confmat_tensor.numpy(),\n",
        "    class_names=class_names,\n",
        "    figsize=(10, 7)\n",
        ");"
      ],
      "metadata": {
        "colab": {
          "base_uri": "https://localhost:8080/",
          "height": 660
        },
        "id": "tDE4wpxuHj7Z",
        "outputId": "1af67d56-9dc8-4de7-eef7-b9ab03c15918"
      },
      "execution_count": 25,
      "outputs": [
        {
          "output_type": "display_data",
          "data": {
            "text/plain": [
              "<Figure size 1000x700 with 1 Axes>"
            ],
            "image/png": "[encoded data removed]"
          },
          "metadata": {}
        }
      ]
    },
    {
      "cell_type": "markdown",
      "source": [
        "## Saving Model"
      ],
      "metadata": {
        "id": "k8M3NNUYH-pc"
      }
    },
    {
      "cell_type": "markdown",
      "source": [
        "We can save our model parameters to use it later."
      ],
      "metadata": {
        "id": "g28VfTrsIGIX"
      }
    },
    {
      "cell_type": "code",
      "source": [
        "from pathlib import Path\n",
        "\n",
        "MODEL_PATH = Path(\"models\")\n",
        "MODEL_PATH.mkdir(\n",
        "    parents=True,\n",
        "    exist_ok=True\n",
        ")\n",
        "\n",
        "MODEL_NAME = \"mnist_model.pth\"\n",
        "MODEL_SAVE_PATH = MODEL_PATH / MODEL_NAME\n",
        "\n",
        "torch.save(\n",
        "    obj=model_0.state_dict(),\n",
        "    f=MODEL_SAVE_PATH\n",
        ")"
      ],
      "metadata": {
        "id": "5tcH8eBeIFdq"
      },
      "execution_count": 26,
      "outputs": []
    },
    {
      "cell_type": "markdown",
      "source": [
        "## Making Prediction on my Handwritten Digit Image"
      ],
      "metadata": {
        "id": "IrPC0DCPt2IV"
      }
    },
    {
      "cell_type": "code",
      "source": [
        "import requests\n",
        "\n",
        "custom_image_path = \"handwritten_digit.jpg\""
      ],
      "metadata": {
        "id": "AaNA_CkLF23t"
      },
      "execution_count": 119,
      "outputs": []
    },
    {
      "cell_type": "code",
      "source": [
        "custom_image_uint8 = torchvision.io.read_image(str(custom_image_path))\n",
        "\n",
        "print(f\"Custom image tensor:\\n{custom_image_uint8}\\n\")\n",
        "print(f\"Custom image shape: {custom_image_uint8.shape}\\n\")"
      ],
      "metadata": {
        "id": "irrevSEbQSEW",
        "outputId": "328e4d54-af9f-4248-c70b-1e29ef5ad51c",
        "colab": {
          "base_uri": "https://localhost:8080/"
        }
      },
      "execution_count": 120,
      "outputs": [
        {
          "output_type": "stream",
          "name": "stdout",
          "text": [
            "Custom image tensor:\n",
            "tensor([[[195, 195, 195,  ..., 195, 195, 195],\n",
            "         [195, 195, 195,  ..., 195, 195, 195],\n",
            "         [195, 195, 195,  ..., 195, 195, 195],\n",
            "         ...,\n",
            "         [195, 195, 195,  ..., 195, 195, 195],\n",
            "         [195, 195, 195,  ..., 195, 195, 195],\n",
            "         [195, 195, 195,  ..., 195, 195, 195]],\n",
            "\n",
            "        [[195, 195, 195,  ..., 195, 195, 195],\n",
            "         [195, 195, 195,  ..., 195, 195, 195],\n",
            "         [195, 195, 195,  ..., 195, 195, 195],\n",
            "         ...,\n",
            "         [195, 195, 195,  ..., 195, 195, 195],\n",
            "         [195, 195, 195,  ..., 195, 195, 195],\n",
            "         [195, 195, 195,  ..., 195, 195, 195]],\n",
            "\n",
            "        [[195, 195, 195,  ..., 195, 195, 195],\n",
            "         [195, 195, 195,  ..., 195, 195, 195],\n",
            "         [195, 195, 195,  ..., 195, 195, 195],\n",
            "         ...,\n",
            "         [195, 195, 195,  ..., 195, 195, 195],\n",
            "         [195, 195, 195,  ..., 195, 195, 195],\n",
            "         [195, 195, 195,  ..., 195, 195, 195]]], dtype=torch.uint8)\n",
            "\n",
            "Custom image shape: torch.Size([3, 206, 208])\n",
            "\n"
          ]
        }
      ]
    },
    {
      "cell_type": "markdown",
      "source": [
        "We need to convert the tensor values to float32"
      ],
      "metadata": {
        "id": "19K_rp8IQ8QW"
      }
    },
    {
      "cell_type": "code",
      "source": [
        "custom_image = torchvision.io.read_image(str(custom_image_path)).type(torch.float32)\n",
        "\n",
        "custom_image = custom_image / 255\n",
        "\n",
        "print(f\"Custom image tensor:\\n{custom_image}\\n\")\n",
        "print(f\"Custom image shape: {custom_image.shape}\\n\")"
      ],
      "metadata": {
        "id": "dC2tGM_gQkOd",
        "outputId": "3c3af7c8-204c-498e-f025-94d7f8168e0e",
        "colab": {
          "base_uri": "https://localhost:8080/"
        }
      },
      "execution_count": 121,
      "outputs": [
        {
          "output_type": "stream",
          "name": "stdout",
          "text": [
            "Custom image tensor:\n",
            "tensor([[[0.7647, 0.7647, 0.7647,  ..., 0.7647, 0.7647, 0.7647],\n",
            "         [0.7647, 0.7647, 0.7647,  ..., 0.7647, 0.7647, 0.7647],\n",
            "         [0.7647, 0.7647, 0.7647,  ..., 0.7647, 0.7647, 0.7647],\n",
            "         ...,\n",
            "         [0.7647, 0.7647, 0.7647,  ..., 0.7647, 0.7647, 0.7647],\n",
            "         [0.7647, 0.7647, 0.7647,  ..., 0.7647, 0.7647, 0.7647],\n",
            "         [0.7647, 0.7647, 0.7647,  ..., 0.7647, 0.7647, 0.7647]],\n",
            "\n",
            "        [[0.7647, 0.7647, 0.7647,  ..., 0.7647, 0.7647, 0.7647],\n",
            "         [0.7647, 0.7647, 0.7647,  ..., 0.7647, 0.7647, 0.7647],\n",
            "         [0.7647, 0.7647, 0.7647,  ..., 0.7647, 0.7647, 0.7647],\n",
            "         ...,\n",
            "         [0.7647, 0.7647, 0.7647,  ..., 0.7647, 0.7647, 0.7647],\n",
            "         [0.7647, 0.7647, 0.7647,  ..., 0.7647, 0.7647, 0.7647],\n",
            "         [0.7647, 0.7647, 0.7647,  ..., 0.7647, 0.7647, 0.7647]],\n",
            "\n",
            "        [[0.7647, 0.7647, 0.7647,  ..., 0.7647, 0.7647, 0.7647],\n",
            "         [0.7647, 0.7647, 0.7647,  ..., 0.7647, 0.7647, 0.7647],\n",
            "         [0.7647, 0.7647, 0.7647,  ..., 0.7647, 0.7647, 0.7647],\n",
            "         ...,\n",
            "         [0.7647, 0.7647, 0.7647,  ..., 0.7647, 0.7647, 0.7647],\n",
            "         [0.7647, 0.7647, 0.7647,  ..., 0.7647, 0.7647, 0.7647],\n",
            "         [0.7647, 0.7647, 0.7647,  ..., 0.7647, 0.7647, 0.7647]]])\n",
            "\n",
            "Custom image shape: torch.Size([3, 206, 208])\n",
            "\n"
          ]
        }
      ]
    },
    {
      "cell_type": "markdown",
      "source": [
        "Let's see our custom image and make a prediction."
      ],
      "metadata": {
        "id": "tqRYDPaeRVwb"
      }
    },
    {
      "cell_type": "code",
      "source": [
        "plt.imshow(custom_image.permute(1, 2, 0)) # CHW -> HWC\n",
        "plt.title(f\"Image shape: {custom_image.shape}\")\n",
        "plt.axis(False);"
      ],
      "metadata": {
        "id": "cDLVN3BuRTae",
        "outputId": "3b735a5a-bf72-41bb-c8ce-f19accb66726",
        "colab": {
          "base_uri": "https://localhost:8080/",
          "height": 428
        }
      },
      "execution_count": 122,
      "outputs": [
        {
          "output_type": "display_data",
          "data": {
            "text/plain": [
              "<Figure size 640x480 with 1 Axes>"
            ],
            "image/png": "[encoded data removed]"
          },
          "metadata": {}
        }
      ]
    },
    {
      "cell_type": "code",
      "source": [
        "print(f\"Custom Image shape: {custom_image.shape}\")\n",
        "print(f\"Image in dataset shape: {image.shape}\")"
      ],
      "metadata": {
        "id": "GCVYsczjR-uu",
        "outputId": "2b7ae801-89ec-42fd-e199-6f6e884f23c7",
        "colab": {
          "base_uri": "https://localhost:8080/"
        }
      },
      "execution_count": 123,
      "outputs": [
        {
          "output_type": "stream",
          "name": "stdout",
          "text": [
            "Custom Image shape: torch.Size([3, 206, 208])\n",
            "Image in dataset shape: torch.Size([1, 28, 28])\n"
          ]
        }
      ]
    },
    {
      "cell_type": "markdown",
      "source": [
        "We need to resize our image and change its color channels parameter."
      ],
      "metadata": {
        "id": "fULWHRiJSF2a"
      }
    },
    {
      "cell_type": "code",
      "source": [
        "from torchvision import transforms\n",
        "\n",
        "custom_image_transform = transforms.Compose([\n",
        "    transforms.Resize((28, 28)),\n",
        "    transforms.Grayscale(num_output_channels=1)\n",
        "])\n",
        "\n",
        "custom_image_transformed = custom_image_transform(custom_image)\n",
        "\n",
        "print(f\"Original shape: {custom_image.shape}\")\n",
        "print(f\"Transformed shape: {custom_image_transformed.shape}\")"
      ],
      "metadata": {
        "id": "7fBOqkCgRnfm",
        "outputId": "8cbb45ea-9ee2-4f2e-a0e0-911dc20eb7d6",
        "colab": {
          "base_uri": "https://localhost:8080/"
        }
      },
      "execution_count": 124,
      "outputs": [
        {
          "output_type": "stream",
          "name": "stdout",
          "text": [
            "Original shape: torch.Size([3, 206, 208])\n",
            "Transformed shape: torch.Size([1, 28, 28])\n"
          ]
        }
      ]
    },
    {
      "cell_type": "markdown",
      "source": [],
      "metadata": {
        "id": "LGn9LpaHXNgO"
      }
    },
    {
      "cell_type": "markdown",
      "source": [
        "We also need to adjust the batch size."
      ],
      "metadata": {
        "id": "DLVc9LfIT7In"
      }
    },
    {
      "cell_type": "code",
      "source": [
        "model_0.eval()\n",
        "with torch.inference_mode():\n",
        "  custom_image_transformed_with_batch_size = custom_image_transformed.unsqueeze(dim=0).to(device)\n",
        "\n",
        "  print(f\"Custom image transformed shape: {custom_image_transformed.shape}\")\n",
        "  print(f\"Custom image shape with batch size: {custom_image_transformed_with_batch_size.shape}\")\n",
        "\n",
        "  custom_image_pred = model_0(custom_image_transformed_with_batch_size)"
      ],
      "metadata": {
        "id": "gSgO2O_lUAHA",
        "outputId": "701a4c6e-f26c-4238-b5ee-850d9370e2ea",
        "colab": {
          "base_uri": "https://localhost:8080/"
        }
      },
      "execution_count": 125,
      "outputs": [
        {
          "output_type": "stream",
          "name": "stdout",
          "text": [
            "Custom image transformed shape: torch.Size([1, 28, 28])\n",
            "Custom image shape with batch size: torch.Size([1, 1, 28, 28])\n"
          ]
        }
      ]
    },
    {
      "cell_type": "code",
      "source": [
        "custom_image_pred"
      ],
      "metadata": {
        "id": "qukh3ZWDWyT3",
        "outputId": "f90e10ae-e4d3-456b-f786-61c822622129",
        "colab": {
          "base_uri": "https://localhost:8080/"
        }
      },
      "execution_count": 126,
      "outputs": [
        {
          "output_type": "execute_result",
          "data": {
            "text/plain": [
              "tensor([[ 5.5289, -8.3996,  0.9558,  5.6187, -7.9354,  1.1724, -1.8622, -6.0948,\n",
              "          9.1198,  2.2620]], device='cuda:0')"
            ]
          },
          "metadata": {},
          "execution_count": 126
        }
      ]
    },
    {
      "cell_type": "code",
      "source": [
        "print(f\"Prediction logits: {custom_image_pred}\")\n",
        "\n",
        "# Converting logits to prediction probabilities\n",
        "custom_image_pred_probs = torch.softmax(custom_image_pred, dim=1)\n",
        "print(f\"Prediction probabilities: {custom_image_pred_probs}\")\n",
        "\n",
        "# Lastly converting prediction probabilities to prediction labels\n",
        "custom_image_pred_label = torch.argmax(custom_image_pred_probs, dim=1)\n",
        "print(f\"Prediction label: {custom_image_pred_label}\")"
      ],
      "metadata": {
        "id": "LCcYShvjWzrj",
        "outputId": "cbe148be-0301-4097-be2e-d16c14ca5c21",
        "colab": {
          "base_uri": "https://localhost:8080/"
        }
      },
      "execution_count": 127,
      "outputs": [
        {
          "output_type": "stream",
          "name": "stdout",
          "text": [
            "Prediction logits: tensor([[ 5.5289, -8.3996,  0.9558,  5.6187, -7.9354,  1.1724, -1.8622, -6.0948,\n",
            "          9.1198,  2.2620]], device='cuda:0')\n",
            "Prediction probabilities: tensor([[2.6026e-02, 2.3245e-08, 2.6874e-04, 2.8472e-02, 3.6979e-08, 3.3373e-04,\n",
            "         1.6050e-05, 2.3297e-07, 9.4389e-01, 9.9230e-04]], device='cuda:0')\n",
            "Prediction label: tensor([8], device='cuda:0')\n"
          ]
        }
      ]
    },
    {
      "cell_type": "markdown",
      "source": [
        "Let's see what \"tensor([8], device='cuda:0')\" means."
      ],
      "metadata": {
        "id": "yHASX6OuYJ6y"
      }
    },
    {
      "cell_type": "code",
      "source": [
        "custom_image_pred_class = class_names[custom_image_pred_label.cpu()]\n",
        "custom_image_pred_class"
      ],
      "metadata": {
        "id": "lkVu_hJsXDh_",
        "outputId": "3e56848d-0178-46ae-e8e4-e7d0fff89834",
        "colab": {
          "base_uri": "https://localhost:8080/",
          "height": 35
        }
      },
      "execution_count": 131,
      "outputs": [
        {
          "output_type": "execute_result",
          "data": {
            "text/plain": [
              "'8 - eight'"
            ],
            "application/vnd.google.colaboratory.intrinsic+json": {
              "type": "string"
            }
          },
          "metadata": {},
          "execution_count": 131
        }
      ]
    },
    {
      "cell_type": "code",
      "source": [
        "plt.imshow(custom_image_transformed.squeeze(), cmap='gray')\n",
        "plt.axis('off')\n",
        "plt.show()"
      ],
      "metadata": {
        "id": "EE6So6tqXXTO",
        "outputId": "b4de97f6-a9f6-47a1-df06-3ef049be67a7",
        "colab": {
          "base_uri": "https://localhost:8080/",
          "height": 406
        }
      },
      "execution_count": 132,
      "outputs": [
        {
          "output_type": "display_data",
          "data": {
            "text/plain": [
              "<Figure size 640x480 with 1 Axes>"
            ],
            "image/png": "[encoded data removed]"
          },
          "metadata": {}
        }
      ]
    }
  ]
}